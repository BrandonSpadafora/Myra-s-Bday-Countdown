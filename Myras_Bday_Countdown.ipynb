{
 "cells": [
  {
   "cell_type": "markdown",
   "id": "ccd9d2c8",
   "metadata": {},
   "source": [
    "# Myra's Birthday Count Down Clock"
   ]
  },
  {
   "cell_type": "code",
   "execution_count": 19,
   "id": "4d069564",
   "metadata": {},
   "outputs": [],
   "source": [
    "from datetime import date\n",
    "from datetime import timedelta\n",
    "from datetime import datetime"
   ]
  },
  {
   "cell_type": "code",
   "execution_count": 20,
   "id": "7f8f5fd7",
   "metadata": {},
   "outputs": [],
   "source": [
    "def get_user_birthday():\n",
    "    year = 2003\n",
    "    month = 2\n",
    "    day = 16\n",
    "\n",
    "    birthday = datetime(2000+year,month,day)\n",
    "    return birthday"
   ]
  },
  {
   "cell_type": "code",
   "execution_count": 21,
   "id": "7af557af",
   "metadata": {},
   "outputs": [],
   "source": [
    "def calculate_dates(original_date, now):\n",
    "    delta1 = datetime(now.year, original_date.month, original_date.day)\n",
    "    delta2 = datetime(now.year+1, original_date.month, original_date.day)\n",
    "    \n",
    "    return ((delta1 if delta1 > now else delta2) - now).days"
   ]
  },
  {
   "cell_type": "code",
   "execution_count": 22,
   "id": "e9843eac",
   "metadata": {},
   "outputs": [],
   "source": [
    "bd = get_user_birthday()\n",
    "now = datetime.now()\n",
    "c = calculate_dates(bd, now)"
   ]
  },
  {
   "cell_type": "code",
   "execution_count": 23,
   "id": "5651531e",
   "metadata": {},
   "outputs": [
    {
     "name": "stdout",
     "output_type": "stream",
     "text": [
      "Myras birthday is in 33 days!\n"
     ]
    }
   ],
   "source": [
    "print(f\"Myras birthday is in {c} days!\")"
   ]
  },
  {
   "cell_type": "code",
   "execution_count": null,
   "id": "3c13cbcf",
   "metadata": {},
   "outputs": [],
   "source": []
  }
 ],
 "metadata": {
  "kernelspec": {
   "display_name": "Python 3 (ipykernel)",
   "language": "python",
   "name": "python3"
  },
  "language_info": {
   "codemirror_mode": {
    "name": "ipython",
    "version": 3
   },
   "file_extension": ".py",
   "mimetype": "text/x-python",
   "name": "python",
   "nbconvert_exporter": "python",
   "pygments_lexer": "ipython3",
   "version": "3.8.2"
  }
 },
 "nbformat": 4,
 "nbformat_minor": 5
}
